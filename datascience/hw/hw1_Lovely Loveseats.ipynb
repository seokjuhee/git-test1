{
 "cells": [
  {
   "cell_type": "code",
   "execution_count": 20,
   "metadata": {},
   "outputs": [
    {
     "name": "stdout",
     "output_type": "stream",
     "text": [
      "Customer One Items: \n",
      "Lovely Loveseat. Tufted polyester blend on wood. 32 inches high x 40 inches wide x 30 inches deep. Red or white.Luxurious Lamp. Glass and iron. 36 inches tall. Brown with cream shade.\n",
      "Customer One Total:\n",
      "333.09119999999996\n"
     ]
    }
   ],
   "source": [
    "#1.lovely_loveseat 설명\n",
    "lovely_loveseat_description= \"Lovely Loveseat. Tufted polyester blend on wood. 32 inches high x 40 inches wide x 30 inches deep. Red or white.\"\n",
    "#2.lovely_loveseat 가격\n",
    "lovely_loveseat_price= 254.00\n",
    "\n",
    "#3.stylish_settee 설명\n",
    "stylish_settee_description= \"Stylish Settee. Faux leather on birch. 29.50 inches high x 54.75 inches wide x 28 inches deep. Black.\"\n",
    "#4.stylish_settee 가격\n",
    "stylish_settee_price= 180.50\n",
    "\n",
    "#5.luxurious_lamp 설명\n",
    "luxurious_lamp_description= \"Luxurious Lamp. Glass and iron. 36 inches tall. Brown with cream shade.\"\n",
    "#6.luxurious_lamp 가격\n",
    "luxurious_lamp_price= 52.15\n",
    "\n",
    "#7.sales tax\n",
    "sales_tax= 0.088\n",
    "\n",
    "#8.첫고객님\n",
    "customer_one_total=0\n",
    "#9.customer_one_itemization and set that equal to the empty string \"\".\n",
    "customer_one_itemization=\"\"\n",
    "#10.첫고객님 lovely_loveseat 선택. customer_one_total가격 추가\n",
    "customer_one_total= customer_one_total + lovely_loveseat_price\n",
    "#11.첫고객님 lovely_loveseat 선택. customer_one_itemization 설명 추가\n",
    "customer_one_itemization=customer_one_itemization +lovely_loveseat_description\n",
    "#12.첫고객님luxurious_lamp 선택. customer_one_total가격 추가\n",
    "customer_one_total= customer_one_total + luxurious_lamp_price\n",
    "#13.첫고객님 luxurious_lamp 선택. customer_one_itemization 설명 추가\n",
    "customer_one_itemization=customer_one_itemization + luxurious_lamp_description\n",
    "\n",
    "#14.customer_one_tax\n",
    "customer_one_tax=lovely_loveseat_price*sales_tax+luxurious_lamp_price*sales_tax\n",
    "#15.Add the sales tax to the customer’s total cost.\n",
    "customer_one_total=customer_one_total+customer_one_tax\n",
    "\n",
    "\n",
    "#16. start printing up their receipt! Begin by printing out the heading for their itemization.\n",
    "print(\"Customer One Items: \")\n",
    "#17.Print customer_one_itemization.\n",
    "print(customer_one_itemization)\n",
    "#18.add a heading for their total cost: Print\n",
    "print(\"Customer One Total:\")\n",
    "#19. print total!\n",
    "print(customer_one_total)"
   ]
  }
 ],
 "metadata": {
  "kernelspec": {
   "display_name": "Python 3",
   "language": "python",
   "name": "python3"
  },
  "language_info": {
   "codemirror_mode": {
    "name": "ipython",
    "version": 3
   },
   "file_extension": ".py",
   "mimetype": "text/x-python",
   "name": "python",
   "nbconvert_exporter": "python",
   "pygments_lexer": "ipython3",
   "version": "3.8.5"
  }
 },
 "nbformat": 4,
 "nbformat_minor": 4
}
