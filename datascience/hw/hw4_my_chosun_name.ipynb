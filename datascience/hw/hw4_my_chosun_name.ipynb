{
 "cells": [
  {
   "cell_type": "code",
   "execution_count": 1,
   "metadata": {},
   "outputs": [
    {
     "name": "stdout",
     "output_type": "stream",
     "text": [
      "당신의 조선시대 이름은  석쌍언 입니다.\n"
     ]
    }
   ],
   "source": [
    "#과제4: 조선시대 이름 찾기\n",
    "\n",
    "def get_my_chosun_name(family_name,month,day):\n",
    "    month_list=['쌍','쇠','복','돌','팽','육','쌍','개','칠','갑','삼','방']\n",
    "    day_list=['봉','구','욕','포','똥','삼','식','석','놈','님','년','돌','단','득',\n",
    "             '방','질','장','걸','래','룡','동','순','자','박','창','언','것','포','만','단','국']\n",
    "    return print(\"당신의 조선시대 이름은 \",family_name + month_list[month-1] + day_list[day-1] , \"입니다.\")\n",
    "get_my_chosun_name('석', 1,26)"
   ]
  },
  {
   "cell_type": "code",
   "execution_count": null,
   "metadata": {},
   "outputs": [],
   "source": []
  }
 ],
 "metadata": {
  "kernelspec": {
   "display_name": "Python 3",
   "language": "python",
   "name": "python3"
  },
  "language_info": {
   "codemirror_mode": {
    "name": "ipython",
    "version": 3
   },
   "file_extension": ".py",
   "mimetype": "text/x-python",
   "name": "python",
   "nbconvert_exporter": "python",
   "pygments_lexer": "ipython3",
   "version": "3.8.5"
  }
 },
 "nbformat": 4,
 "nbformat_minor": 4
}
