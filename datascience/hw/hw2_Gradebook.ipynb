{
 "cells": [
  {
   "cell_type": "code",
   "execution_count": 8,
   "metadata": {},
   "outputs": [
    {
     "name": "stdout",
     "output_type": "stream",
     "text": [
      "[['physics', 98], ['calculus', 97], ['poetry', 85], ['history', 88]]\n",
      "[['physics', 98], ['calculus', 97], ['poetry', 85], ['history', 88], ['computer science', 100], ['visual arts', 93]]\n",
      "[['physics', 98], ['calculus', 97], ['poetry', 'pass'], ['history', 88], ['computer science', 100], ['visual arts', 98]]\n",
      "[['politics', 80], ['latin', 96], ['dance', 97], ['architecture', 65], ['physics', 98], ['calculus', 97], ['poetry', 'pass'], ['history', 88], ['computer science', 100], ['visual arts', 98]]\n"
     ]
    }
   ],
   "source": [
    "\"\"\"\n",
    "Create Some List\n",
    "\"\"\"\n",
    "#1.subjects list\n",
    "subjects=['physics','calculus','poetry','history']\n",
    "#2.grades list\n",
    "grades=[98,97,85,88]\n",
    "#3.combine subjects and grades\n",
    "gradebook=[[subjects[0],grades[0]],[subjects[1],grades[1]],[subjects[2],grades[2]],[subjects[3],grades[3]]]\n",
    "\n",
    "#4.print gradebook\n",
    "print(gradebook)\n",
    "\n",
    "#5.gradebook list에 ['computer science', 100]을 .append()\n",
    "gradebook.append(['computer science',100])\n",
    "#6.gradebook list에 ['visual arts', 93]을 .append()\n",
    "gradebook.append(['visual arts', 93])\n",
    "\"\"\"\n",
    "Expected Output \n",
    "[['physics', 98], ['calculus', 97], ['poetry', 85], ['history', 88], ['computer science', 100], ['visual arts', 93]]\n",
    "\"\"\"\n",
    "print(gradebook)\n",
    "\n",
    "#7.modify 'visual arts' 추가점수 +5\n",
    "gradebook[5][1] +=5\n",
    "#8.'poetry' class grades value .remove() delete\n",
    "gradebook[2].remove(85)\n",
    "#9.'pass' .append()\n",
    "gradebook[2].append('pass')\n",
    "\"\"\"\n",
    "Expected Output \n",
    "[['physics', 98], ['calculus', 97], ['poetry', 'pass'], ['history', 88], ['computer science', 100], ['visual arts', 98]]\n",
    "\"\"\"\n",
    "print(gradebook)\n",
    "\n",
    "#10.last_semester_gradebook\n",
    "last_semester_gradebook=[['politics',80],['latin',96],['dance',97],['architecture',65]]\n",
    "full_gradebook=last_semester_gradebook+gradebook\n",
    "\"\"\"\n",
    "Expected Output \n",
    "[['politics', 80], ['latin', 96], ['dance', 97], ['architecture', 65], ['physics', 98], ['calculus', 97], \n",
    "['poetry', 'pass'], ['history', 88], ['computer science', 100], ['visual arts', 98]]\n",
    "\"\"\"\n",
    "print(full_gradebook)"
   ]
  },
  {
   "cell_type": "code",
   "execution_count": null,
   "metadata": {},
   "outputs": [],
   "source": []
  }
 ],
 "metadata": {
  "kernelspec": {
   "display_name": "Python 3",
   "language": "python",
   "name": "python3"
  },
  "language_info": {
   "codemirror_mode": {
    "name": "ipython",
    "version": 3
   },
   "file_extension": ".py",
   "mimetype": "text/x-python",
   "name": "python",
   "nbconvert_exporter": "python",
   "pygments_lexer": "ipython3",
   "version": "3.8.5"
  }
 },
 "nbformat": 4,
 "nbformat_minor": 4
}
