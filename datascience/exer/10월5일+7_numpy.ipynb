{
 "cells": [
  {
   "cell_type": "code",
   "execution_count": 1,
   "metadata": {},
   "outputs": [],
   "source": [
    "import numpy as np"
   ]
  },
  {
   "cell_type": "code",
   "execution_count": 7,
   "metadata": {},
   "outputs": [
    {
     "name": "stdout",
     "output_type": "stream",
     "text": [
      "[0 1 2]\n",
      "[3 4 5 6 7 8]\n",
      "[3 5 7]\n"
     ]
    }
   ],
   "source": [
    "\"\"\"\n",
    "numpy array attributes\n",
    "\"\"\"\n",
    "\n",
    "print(np.arange(3))\n",
    "print(np.arange(3,9))\n",
    "print(np.arange(3,9,2))"
   ]
  },
  {
   "cell_type": "code",
   "execution_count": 9,
   "metadata": {},
   "outputs": [
    {
     "name": "stdout",
     "output_type": "stream",
     "text": [
      "arr1\n",
      "[5 0 3 3 7 9]\n",
      "arr2\n",
      "[[3 5 2 4]\n",
      " [7 6 8 8]\n",
      " [1 6 7 7]]\n",
      "arr3\n",
      "[[[8 1 5 9 8]\n",
      "  [9 4 3 0 3]\n",
      "  [5 0 2 3 8]\n",
      "  [1 3 3 3 7]]\n",
      "\n",
      " [[0 1 9 9 0]\n",
      "  [4 7 3 2 7]\n",
      "  [2 0 0 4 5]\n",
      "  [5 6 8 4 1]]\n",
      "\n",
      " [[4 9 8 1 1]\n",
      "  [7 9 9 3 6]\n",
      "  [7 2 0 3 5]\n",
      "  [9 4 4 6 4]]]\n"
     ]
    }
   ],
   "source": [
    "np.random.seed(0)\n",
    "arr1 = np.random.randint(10, size=6)\n",
    "print('arr1')\n",
    "print(arr1)\n",
    "arr2 = np.random.randint(10, size=(3,4))\n",
    "print('arr2')\n",
    "print(arr2)\n",
    "\n",
    "arr3 = np.random.randint(10, size=(3,4,5))\n",
    "print('arr3')\n",
    "print(arr3)"
   ]
  },
  {
   "cell_type": "code",
   "execution_count": 16,
   "metadata": {},
   "outputs": [
    {
     "name": "stdout",
     "output_type": "stream",
     "text": [
      "[[3 5 2 4]\n",
      " [7 6 8 8]\n",
      " [1 6 7 7]]\n",
      "arr2.ndim=  2\n",
      "arr2.shape= (3, 4)\n",
      "arr2.size 12\n",
      "arr2.dtype int32\n",
      "arr2.itemsize= 4\n",
      "arr2.nbytes= 48\n"
     ]
    }
   ],
   "source": [
    "print(arr2)\n",
    "\n",
    "print(\"arr2.ndim= \",arr2.ndim)\n",
    "print(\"arr2.shape=\",arr2.shape)\n",
    "print(\"arr2.size\",arr2.size)\n",
    "\n",
    "print(\"arr2.dtype\",arr2.dtype)\n",
    "print(\"arr2.itemsize=\",arr2.itemsize)\n",
    "print(\"arr2.nbytes=\",arr2.nbytes)"
   ]
  },
  {
   "cell_type": "code",
   "execution_count": 11,
   "metadata": {},
   "outputs": [
    {
     "name": "stdout",
     "output_type": "stream",
     "text": [
      "[0 1 2 3 4 5 6 7 8 9]\n",
      "[3 4 5 6]\n",
      "[0 1 2 3 4]\n",
      "[0 1 2 3 4]\n",
      "[5 6 7 8 9]\n",
      "[0 3 6 9]\n",
      "[2 4 6]\n"
     ]
    }
   ],
   "source": [
    "arr=np.arange(10)\n",
    "print(arr)\n",
    "\n",
    "print(arr[3:7])\n",
    "print(arr[:5])\n",
    "print(arr[:5])\n",
    "print(arr[5:])\n",
    "print(arr[::3])\n",
    "print(arr[2:8:2])"
   ]
  },
  {
   "cell_type": "code",
   "execution_count": 19,
   "metadata": {},
   "outputs": [
    {
     "name": "stdout",
     "output_type": "stream",
     "text": [
      "[[5 0 3 3 7 9 3 5]\n",
      " [2 4 7 6 8 8 1 6]\n",
      " [7 7 8 1 5 9 8 9]\n",
      " [4 3 0 3 5 0 2 3]\n",
      " [8 1 3 3 3 7 0 1]\n",
      " [9 9 0 4 7 3 2 7]]\n",
      "arr_sub \n",
      " [[5 0 2]\n",
      " [3 7 0]]\n"
     ]
    }
   ],
   "source": [
    "np.random.seed(0)\n",
    "arr = np.random.randint(10,size=(6,8))\n",
    "print(arr)\n",
    "\n",
    "arr_sub = arr[3:5,4:7]\n",
    "print(\"arr_sub \\n\", arr_sub)"
   ]
  },
  {
   "cell_type": "code",
   "execution_count": 21,
   "metadata": {},
   "outputs": [
    {
     "name": "stdout",
     "output_type": "stream",
     "text": [
      "[[5 8 9 5]\n",
      " [0 0 1 7]\n",
      " [6 9 2 4]] \n",
      "\n",
      "[[5 8]\n",
      " [0 0]] \n",
      "\n",
      "[[99  8  9  5]\n",
      " [ 0  0  1  7]\n",
      " [ 6  9  2  4]]\n"
     ]
    }
   ],
   "source": [
    "np.random.seed(1)\n",
    "arr = np.random.randint(10,size=(3,4))\n",
    "print(arr,'\\n')\n",
    "\n",
    "arr_sub= arr[:2, :2]\n",
    "print(arr_sub,'\\n')\n",
    "\n",
    "arr_sub[0,0]=99\n",
    "print(arr) #바뀐다"
   ]
  },
  {
   "cell_type": "code",
   "execution_count": 23,
   "metadata": {},
   "outputs": [
    {
     "name": "stdout",
     "output_type": "stream",
     "text": [
      "[[5 8 9 5]\n",
      " [0 0 1 7]\n",
      " [6 9 2 4]] \n",
      "\n",
      "[[5 8]\n",
      " [0 0]] \n",
      "\n",
      "[[5 8 9 5]\n",
      " [0 0 1 7]\n",
      " [6 9 2 4]]\n"
     ]
    }
   ],
   "source": [
    "np.random.seed(1)\n",
    "arr = np.random.randint(10,size=(3,4))\n",
    "print(arr,'\\n')\n",
    "\n",
    "arr_sub= arr[:2, :2].copy() #copy()\n",
    "print(arr_sub,'\\n')\n",
    "\n",
    "arr_sub[0,0]=99\n",
    "print(arr)"
   ]
  },
  {
   "cell_type": "code",
   "execution_count": 27,
   "metadata": {},
   "outputs": [
    {
     "name": "stdout",
     "output_type": "stream",
     "text": [
      "[1 2 3 4 5 6 7 8 9] \n",
      "\n",
      "[[1 2 3]\n",
      " [4 5 6]\n",
      " [7 8 9]] \n",
      "\n"
     ]
    }
   ],
   "source": [
    "arr=np.arange(1,10)\n",
    "print(arr,\"\\n\")\n",
    "\n",
    "grid = arr.reshape(3,3) #reshape\n",
    "print(grid,\"\\n\")"
   ]
  },
  {
   "cell_type": "code",
   "execution_count": 30,
   "metadata": {},
   "outputs": [
    {
     "name": "stdout",
     "output_type": "stream",
     "text": [
      "[1 2 3]\n",
      "arr.ndim= 1\n",
      "arr.shape= (3,)\n",
      "arr_n \n",
      " [[1 2 3]]\n",
      "arr_n.ndim= 2\n",
      "arr_n.shape= (1, 3) \n",
      "\n",
      "arr_new \n",
      " [[1]\n",
      " [2]\n",
      " [3]]\n",
      "arr_new.ndim= 2\n",
      "arr_new.shape= (3, 1)\n"
     ]
    }
   ],
   "source": [
    "arr = np.array([1,2,3])\n",
    "print(arr)\n",
    "print(\"arr.ndim=\",arr.ndim)\n",
    "print(\"arr.shape=\",arr.shape)\n",
    "\n",
    "arr_n = arr[np.newaxis,:]\n",
    "print(\"arr_n \\n\",arr_n)\n",
    "print(\"arr_n.ndim=\",arr_n.ndim)\n",
    "print(\"arr_n.shape=\",arr_n.shape,\"\\n\")\n",
    "\n",
    "arr_new = arr[:,np.newaxis]\n",
    "print(\"arr_new \\n\",arr_new)\n",
    "print(\"arr_new.ndim=\",arr_new.ndim)\n",
    "print(\"arr_new.shape=\",arr_new.shape)"
   ]
  },
  {
   "cell_type": "code",
   "execution_count": 33,
   "metadata": {},
   "outputs": [
    {
     "name": "stdout",
     "output_type": "stream",
     "text": [
      "[1 2 3 4 5 6 7 8 9]\n",
      "[[1 2 3]\n",
      " [4 5 6]\n",
      " [7 8 9]]\n"
     ]
    }
   ],
   "source": [
    "arr_1 = np.array([1,2,3])\n",
    "arr_2 = np.array([4,5,6])\n",
    "arr_3 = np.array([7,8,9])\n",
    "\n",
    "arr_total = np.concatenate([arr_1,arr_2,arr_3])\n",
    "print(arr_total)\n",
    "\n",
    "arr_total = np.vstack([arr_1,arr_2,arr_3])\n",
    "print(arr_total)"
   ]
  },
  {
   "cell_type": "code",
   "execution_count": 34,
   "metadata": {},
   "outputs": [
    {
     "name": "stdout",
     "output_type": "stream",
     "text": [
      "[1, 2, 3, 99, 99, 3, 2, 1] \n",
      "\n",
      "[1 2 3] [99 99] [3 2 1]\n"
     ]
    }
   ],
   "source": [
    "arr=[1,2,3,99,99,3,2,1]\n",
    "print(arr,\"\\n\")\n",
    "\n",
    "arr1,arr2,arr3=np.split(arr,[3,5])\n",
    "print(arr1,arr2,arr3)"
   ]
  },
  {
   "cell_type": "code",
   "execution_count": null,
   "metadata": {},
   "outputs": [],
   "source": []
  }
 ],
 "metadata": {
  "kernelspec": {
   "display_name": "Python 3",
   "language": "python",
   "name": "python3"
  },
  "language_info": {
   "codemirror_mode": {
    "name": "ipython",
    "version": 3
   },
   "file_extension": ".py",
   "mimetype": "text/x-python",
   "name": "python",
   "nbconvert_exporter": "python",
   "pygments_lexer": "ipython3",
   "version": "3.8.5"
  }
 },
 "nbformat": 4,
 "nbformat_minor": 4
}
