{
 "cells": [
  {
   "cell_type": "code",
   "execution_count": 1,
   "metadata": {},
   "outputs": [],
   "source": [
    "import numpy as np\n",
    "import pandas as pd\n",
    "from matplotlib import pyplot as plt"
   ]
  },
  {
   "cell_type": "code",
   "execution_count": 2,
   "metadata": {},
   "outputs": [
    {
     "name": "stdout",
     "output_type": "stream",
     "text": [
      "['1.5' 'string' 'True']\n"
     ]
    }
   ],
   "source": [
    "# Creating a NumPy Array\n",
    "lst=[1.5,\"string\",True]\n",
    "\n",
    "arr= np.array(lst)\n",
    "print(arr)"
   ]
  },
  {
   "cell_type": "code",
   "execution_count": 3,
   "metadata": {},
   "outputs": [
    {
     "name": "stdout",
     "output_type": "stream",
     "text": [
      "<U32\n"
     ]
    }
   ],
   "source": [
    "# .dtype attribute\n",
    "print(arr.dtype)"
   ]
  },
  {
   "cell_type": "code",
   "execution_count": 5,
   "metadata": {},
   "outputs": [
    {
     "name": "stdout",
     "output_type": "stream",
     "text": [
      "192\n",
      "164\n",
      "56\n",
      "96\n"
     ]
    }
   ],
   "source": [
    "\"\"\"\n",
    "Size Comparison of ndarray and list objects\n",
    "\"\"\"\n",
    "\n",
    "from sys import getsizeof\n",
    "\n",
    "lst = [1,2,3,4,5,6,7,8,9,10,11,12,13,14,15,16,17]\n",
    "print(getsizeof(lst))\n",
    "\n",
    "arr = np.array(lst)\n",
    "print(getsizeof(arr))\n",
    "\n",
    "lst = []\n",
    "print(getsizeof(lst))\n",
    "arr = np.array(lst)\n",
    "print(getsizeof(arr))"
   ]
  },
  {
   "cell_type": "code",
   "execution_count": 7,
   "metadata": {},
   "outputs": [
    {
     "name": "stdout",
     "output_type": "stream",
     "text": [
      "[25, 20, 35, 15, 15, 30, 45, 30]\n",
      "[25 20 35 15 15 30 45 30]\n"
     ]
    }
   ],
   "source": [
    "prices = [30,25,40,20,20,35,50,35]\n",
    "\n",
    "new_prices = [price-5 for price in prices]\n",
    "print(new_prices)\n",
    "\n",
    "prices_arr=np.array(prices)\n",
    "prices_arr=prices_arr-5\n",
    "print(prices_arr)"
   ]
  },
  {
   "cell_type": "code",
   "execution_count": 8,
   "metadata": {},
   "outputs": [
    {
     "name": "stdout",
     "output_type": "stream",
     "text": [
      "[89 87 74 92 94]\n",
      "[258 279 246 274 270]\n",
      "[86.         93.         82.         91.33333333 90.        ]\n",
      "93\n",
      "[94 88]\n",
      "[[ 92  94  88  91  87]\n",
      " [ 79 100  86  93  91]\n",
      " [ 87  85  72  90  92]]\n",
      "87\n",
      "[87 91 92]\n"
     ]
    }
   ],
   "source": [
    "test1 = np.array([92,94,88,91,87])\n",
    "test2 = np.array([79,100,86,93,91])\n",
    "test3 = np.array([87,85,72,90,92])\n",
    "\n",
    "test3_fixed = test3 +2\n",
    "print(test3_fixed)\n",
    "\n",
    "total_grade = test1 + test2 + test3\n",
    "print(total_grade)\n",
    "\n",
    "final_grade = total_grade/3\n",
    "print(final_grade)\n",
    "\n",
    "jeremy_test2 = test2[3]\n",
    "print(jeremy_test2)\n",
    "\n",
    "manual_adwoa_test1 = np.array([test1[1],test1[2]])\n",
    "print(manual_adwoa_test1)\n",
    "\n",
    "student_scores = np.array([test1 , test2 , test3])\n",
    "print(student_scores)\n",
    "\n",
    "print(student_scores[2,0])\n",
    "print(student_scores[:,4])"
   ]
  },
  {
   "cell_type": "code",
   "execution_count": 10,
   "metadata": {},
   "outputs": [
    {
     "name": "stdout",
     "output_type": "stream",
     "text": [
      "[ True False False False False False  True  True  True  True]\n",
      "[10  9  8  9  7]\n",
      "[10  2  2  3  9  8  9  7]\n",
      "[5 7]\n"
     ]
    }
   ],
   "source": [
    "a= np.array([10,2,2,4,5,3,9,8,9,7])\n",
    "mask = a>5\n",
    "print(mask)\n",
    "\n",
    "selected = a[a>5]\n",
    "print(selected)\n",
    "\n",
    "selected = a[(a>6)|(a<4)]\n",
    "print(selected)\n",
    "\n",
    "selected = a[(a>4)&(a<8)]\n",
    "print(selected)"
   ]
  },
  {
   "cell_type": "code",
   "execution_count": 14,
   "metadata": {},
   "outputs": [
    {
     "name": "stdout",
     "output_type": "stream",
     "text": [
      "[79 65 50 63 56 90 85 98 79 51]\n",
      "[50 56 51]\n",
      "[90 85 98]\n",
      "[79 65 63 79]\n"
     ]
    }
   ],
   "source": [
    "#실습문제\n",
    "\n",
    "#포리지 온도를 porridge 배열 저장\n",
    "porridge = np.array([79,65,50,63,56,90,85,98,79,51])\n",
    "#60도 미만 cold 배열에 저장\n",
    "cold=porridge[porridge<60]\n",
    "#80도 초과 hot 배열에 저장\n",
    "hot=porridge[porridge>80]\n",
    "#60도 이상 80도 이하 적당 just_right 배열에 저장\n",
    "just_right=porridge[(porridge>=60)&(porridge<=80)]\n",
    "\n",
    "print(porridge)\n",
    "print(cold)\n",
    "print(hot)\n",
    "print(just_right)"
   ]
  },
  {
   "cell_type": "code",
   "execution_count": null,
   "metadata": {},
   "outputs": [],
   "source": []
  }
 ],
 "metadata": {
  "kernelspec": {
   "display_name": "Python 3",
   "language": "python",
   "name": "python3"
  },
  "language_info": {
   "codemirror_mode": {
    "name": "ipython",
    "version": 3
   },
   "file_extension": ".py",
   "mimetype": "text/x-python",
   "name": "python",
   "nbconvert_exporter": "python",
   "pygments_lexer": "ipython3",
   "version": "3.8.5"
  }
 },
 "nbformat": 4,
 "nbformat_minor": 4
}
